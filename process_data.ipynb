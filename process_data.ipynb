{
 "cells": [
  {
   "cell_type": "code",
   "execution_count": 260,
   "id": "79430ebe-fa53-4167-b366-deadb14d9dd6",
   "metadata": {},
   "outputs": [],
   "source": [
    "import pandas as pd"
   ]
  },
  {
   "cell_type": "code",
   "execution_count": 261,
   "id": "72ec96f0-f0cc-4215-9c2d-cbf7fab9c5b4",
   "metadata": {},
   "outputs": [],
   "source": [
    "months = ['jan', 'feb', 'mar', 'apr', 'may', 'jun', 'jul', 'aug', 'sep', 'oct', 'nov', 'dec']"
   ]
  },
  {
   "cell_type": "code",
   "execution_count": 262,
   "id": "4847a366-6137-4d98-87b4-fd7ea6b3e748",
   "metadata": {},
   "outputs": [],
   "source": [
    "# import dataset for province names\n",
    "provinces = pd.read_csv('datasets/map/provinces.csv', header=0)"
   ]
  },
  {
   "cell_type": "code",
   "execution_count": 263,
   "id": "c4bdc1d2-62f7-4e44-8e9a-84092b361f6a",
   "metadata": {},
   "outputs": [],
   "source": [
    "# import dataset for rainfall data per province per month\n",
    "rainfall = pd.read_csv('datasets/rainfall/rainfall_province_monthly.csv', index_col=0)\n",
    "\n",
    "# transform columns to match other datasets\n",
    "rainfall['PROV_E'] = rainfall['PROV_T'].map(lambda x: provinces.loc[provinces['thName'] == x]['enName'].values[0])\n",
    "rainfall['MONTH_NAME'] = rainfall['MONTH'].map(lambda x: months[x - 1])\n",
    "\n",
    "# find avg max rainfall across all years for each month and province\n",
    "min_rainfall_per_month = rainfall.groupby(['MONTH_NAME'])['MaxRain'].min()\n",
    "max_rainfall_per_month = rainfall.groupby(['MONTH_NAME'])['MaxRain'].max()\n",
    "max_rainfall_per_month_per_province = rainfall.groupby(['MONTH_NAME','PROV_E'])['MaxRain'].mean()"
   ]
  },
  {
   "cell_type": "code",
   "execution_count": 264,
   "id": "f6077667-2c10-4fb0-8ca7-3410ebf582b3",
   "metadata": {},
   "outputs": [],
   "source": [
    "# import dataset for tourism number per province per month\n",
    "tourism = pd.read_csv('datasets/tourism_count/thailand_domestic_tourism_2019_2023_ver2.csv')\n",
    "domestic_tourists = tourism[tourism['variable'].isin(['no_tourist_thai'])].copy()\n",
    "tourism_ratio = tourism[tourism['variable'].isin(['ratio_tourist_stay'])].copy()\n",
    "\n",
    "# transform columns to match other datasets\n",
    "domestic_tourists['PROV_E'] = domestic_tourists['province_thai'].map(lambda x: provinces.loc[provinces['thName'] == x]['enName'].values[0])\n",
    "domestic_tourists['month'] = pd.to_datetime(domestic_tourists['date']).dt.month.map(lambda x: months[x - 1])\n",
    "tourism_ratio['PROV_E'] = tourism_ratio['province_thai'].map(lambda x: provinces.loc[provinces['thName'] == x]['enName'].values[0])\n",
    "tourism_ratio['month'] = pd.to_datetime(tourism_ratio['date']).dt.month.map(lambda x: months[x - 1])"
   ]
  },
  {
   "cell_type": "code",
   "execution_count": 265,
   "id": "5a5e4579-9f9d-4d7a-b83f-6925cbb443d7",
   "metadata": {},
   "outputs": [],
   "source": [
    "# tourism transform\n",
    "min_domestic_tourist_per_month = domestic_tourists.groupby(['month'])['value'].min()\n",
    "max_domestic_tourist_per_month = domestic_tourists.groupby(['month'])['value'].max()\n",
    "tourism_per_month_per_province = domestic_tourists.groupby(['month','PROV_E'])['value'].mean()\n",
    "tourism_ratio_per_month_per_province = tourism_ratio.groupby(['month', 'PROV_E'])['value'].mean()"
   ]
  },
  {
   "cell_type": "code",
   "execution_count": 284,
   "id": "03e17b08-5e44-408b-9c3a-b3a16a9abf44",
   "metadata": {},
   "outputs": [],
   "source": [
    "'''\n",
    "Define scoring function using the following inputs:\n",
    "  - maximum historical rainfall in millimeters for the given month\n",
    "  - number of domestic tourists that visit the province for the given month\n",
    "  - ratio of tourist to local ratio\n",
    "\n",
    "The higher rainfall amount the more penalty is applied to the final score.\n",
    "The number of domestic tourists is used to determine destinations/events known only to locals.\n",
    "The ratio of tourist to local results in highest score when ratio is closest to 50%.\n",
    "\n",
    "Output score is in range [0-1]\n",
    "'''\n",
    "\n",
    "# Define a set of weights for each variable\n",
    "rainfall_weight = 0.4\n",
    "domestic_tourist_weight = 0.35\n",
    "tourism_ratio_weight = 0.25\n",
    "\n",
    "def calculate_score(month, province_rainfall, num_domestic_tourist, tourism_ratio):\n",
    "    # find percent based on min,max range of rainfall that month\n",
    "    min_rainfall_amount = min_rainfall_per_month[month]\n",
    "    max_rainfall_amount = max_rainfall_per_month[month]\n",
    "    rain_score = 1 - ((province_rainfall - min_rainfall_amount) / (max_rainfall_amount - min_rainfall_amount))\n",
    "\n",
    "    # find percent based on min,max range of domestic tourists that month\n",
    "    min_tourists = min_domestic_tourist_per_month[month]\n",
    "    max_tourists = max_domestic_tourist_per_month[month]\n",
    "    domestic_tourism_score = 1 - ((num_domestic_tourist - min_tourists) / (max_tourists - min_tourists))\n",
    "    \n",
    "    # score based on ratio using quadratic formula score to penalize the low and high ends\n",
    "    tourism_ratio_score = -0.0004*(tourism_ratio**2) + (0.04*tourism_ratio)\n",
    "    \n",
    "    overall_score = (rain_score * rainfall_weight) + (domestic_tourism_score * domestic_tourist_weight) + (tourism_ratio_score * tourism_ratio_weight)\n",
    "\n",
    "    return overall_score"
   ]
  },
  {
   "cell_type": "code",
   "execution_count": 287,
   "id": "9b1b3bb1-8b19-457c-81b7-30d146bf556a",
   "metadata": {},
   "outputs": [],
   "source": [
    "'''\n",
    "Create output which will be used for UI. Structure of output JSON is:\n",
    "{\n",
    "    \"jan\": {\n",
    "        \"Bangkok\": {\n",
    "          \"score\": 12.2,\n",
    "          \"num_michelin_restaurants\": 1,\n",
    "          \"max_rainfall_mm\": 11,\n",
    "          \"tourism_percentage\": 38.4\n",
    "        },\n",
    "        \"Phuket\": { ... },\n",
    "        ...\n",
    "    \"feb\": {\n",
    "        ...\n",
    "    },\n",
    "    ...\n",
    "}\n",
    "'''\n",
    "output = {}\n",
    "\n",
    "for month in months:\n",
    "    # create an entry in output_dict for month if it doesn't already exists\n",
    "    output.setdefault(month, {})\n",
    "    for province in provinces.enName.squeeze().to_list():\n",
    "        max_rainfall_mm = max_rainfall_per_month_per_province[month][province]\n",
    "        num_domestic_tourists = tourism_per_month_per_province[month][province]\n",
    "        tourism_ratio = tourism_ratio_per_month_per_province[month][province]\n",
    "        output[month][province] = {\n",
    "            \"score\": calculate_score(month, max_rainfall_mm, num_domestic_tourists, tourism_ratio),\n",
    "            \"max_rainfall_mm\": max_rainfall_mm,\n",
    "            \"tourism_ratio\": tourism_ratio\n",
    "        }"
   ]
  },
  {
   "cell_type": "code",
   "execution_count": 289,
   "id": "2db8660d-e645-4d90-81f9-10e113b1e60c",
   "metadata": {},
   "outputs": [],
   "source": [
    "# The final output is saved to a JSON file to be read and visualized by the UI\n",
    "import json\n",
    "output_json = json.dumps(output)\n",
    "\n",
    "with open(\"data-driven-travel/static/output.json\", \"w\") as outfile:\n",
    "    outfile.write(output_json)"
   ]
  }
 ],
 "metadata": {
  "kernelspec": {
   "display_name": "Python 3 (ipykernel)",
   "language": "python",
   "name": "python3"
  },
  "language_info": {
   "codemirror_mode": {
    "name": "ipython",
    "version": 3
   },
   "file_extension": ".py",
   "mimetype": "text/x-python",
   "name": "python",
   "nbconvert_exporter": "python",
   "pygments_lexer": "ipython3",
   "version": "3.11.5"
  }
 },
 "nbformat": 4,
 "nbformat_minor": 5
}
